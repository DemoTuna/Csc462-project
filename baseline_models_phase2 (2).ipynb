{
 "cells": [
  {
   "cell_type": "markdown",
   "id": "7047941d",
   "metadata": {},
   "source": [
    "# Phase 2 — Baseline Models"
   ]
  },
  {
   "cell_type": "markdown",
   "id": "be05389d",
   "metadata": {},
   "source": [
    "### Importing Libraries"
   ]
  },
  {
   "cell_type": "code",
   "execution_count": 1,
   "id": "05fa761a",
   "metadata": {},
   "outputs": [],
   "source": [
    "import pandas as pd\n",
    "import numpy as np\n",
    "\n",
    "from sklearn.linear_model import LogisticRegression\n",
    "from sklearn.metrics import accuracy_score , confusion_matrix , classification_report\n",
    "from sklearn.preprocessing import StandardScaler\n",
    "from sklearn.tree import DecisionTreeClassifier\n",
    "from sklearn.metrics import accuracy_score, confusion_matrix, classification_report\n",
    "from sklearn.ensemble import RandomForestClassifier\n",
    "import os\n",
    "from pathlib import Path\n",
    "import pandas as pd"
   ]
  },
  {
   "cell_type": "markdown",
   "id": "e4f39f55",
   "metadata": {},
   "source": [
    "### Loading the Dataset"
   ]
  },
  {
   "cell_type": "code",
   "execution_count": 4,
   "id": "9dc19690",
   "metadata": {},
   "outputs": [],
   "source": [
    "# loading data\n",
    "train_df = pd.read_csv(\"train.csv\")\n",
    "val_df = pd.read_csv(\"val.csv\")\n",
    "test_df = pd.read_csv(\"test.csv\")\n",
    "\n",
    "# takeing a peak at data \n",
    "train_df.head()\n",
    "\n",
    "# turning them into matreses \n",
    "X_train = train_df[[f\"p{i}\" for i in range(1, 43)] + [\"turn\"]].values.astype(\"int\")\n",
    "y_train = train_df[\"label_move_col\"].values.astype(\"int\")\n",
    "\n",
    "X_val = val_df[[f\"p{i}\" for i in range(1, 43)] + [\"turn\"]].values.astype(\"int\")\n",
    "y_val = val_df[\"label_move_col\"].values.astype(\"int\")\n",
    "\n",
    "X_test = test_df[[f\"p{i}\" for i in range(1, 43)] + [\"turn\"]].values.astype(\"int\")\n",
    "\n"
   ]
  },
  {
   "cell_type": "markdown",
   "id": "55ead2ab",
   "metadata": {},
   "source": [
    "### Standardization of Features"
   ]
  },
  {
   "cell_type": "code",
   "execution_count": 5,
   "id": "f4c835cc",
   "metadata": {},
   "outputs": [
    {
     "data": {
      "text/plain": [
       "label_move_col\n",
       "0     7136\n",
       "1     4111\n",
       "2     4923\n",
       "3    17653\n",
       "4     4923\n",
       "5     4111\n",
       "6     7136\n",
       "Name: count, dtype: int64"
      ]
     },
     "execution_count": 5,
     "metadata": {},
     "output_type": "execute_result"
    }
   ],
   "source": [
    "scaler = StandardScaler()\n",
    "X_train_scaled = scaler.fit_transform(X_train)\n",
    "X_val_scaled = scaler.fit_transform(X_val)\n",
    "X_test_scaled = scaler.fit_transform(X_test)\n",
    "\n",
    "train_df[\"label_move_col\"].value_counts().sort_index()"
   ]
  },
  {
   "cell_type": "markdown",
   "id": "d7c00849",
   "metadata": {},
   "source": [
    "# Logistic Regression Model\n",
    "### Training and Evaluation"
   ]
  },
  {
   "cell_type": "code",
   "execution_count": 6,
   "id": "98446668",
   "metadata": {},
   "outputs": [
    {
     "name": "stdout",
     "output_type": "stream",
     "text": [
      "validation accuracy:  0.17672173751624282\n",
      "\n",
      "confusion matrix: \n",
      " [[194 208 259 185 249 219 136]\n",
      " [ 83 207 169  85 133 148 100]\n",
      " [ 90 133 281 123 175 137  94]\n",
      " [364 575 769 542 769 575 364]\n",
      " [ 94 137 175 123 281 133  90]\n",
      " [100 148 133  85 169 207  83]\n",
      " [138 219 249 185 259 208 192]]\n",
      "\n",
      "\n",
      "classification report: \n",
      "               precision    recall  f1-score   support\n",
      "\n",
      "           0      0.183     0.134     0.154      1450\n",
      "           1      0.127     0.224     0.162       925\n",
      "           2      0.138     0.272     0.183      1033\n",
      "           3      0.408     0.137     0.205      3958\n",
      "           4      0.138     0.272     0.183      1033\n",
      "           5      0.127     0.224     0.162       925\n",
      "           6      0.181     0.132     0.153      1450\n",
      "\n",
      "    accuracy                          0.177     10774\n",
      "   macro avg      0.186     0.199     0.172     10774\n",
      "weighted avg      0.247     0.177     0.180     10774\n",
      "\n"
     ]
    }
   ],
   "source": [
    "# training logistic regression\n",
    "\n",
    "Logistic_regression_model =  LogisticRegression(max_iter = 3000 , solver =\"lbfgs\" ,class_weight=\"balanced\" , C=1 ,random_state=42 )\n",
    "\n",
    "Logistic_regression_model.fit(X_train_scaled , y_train)\n",
    "\n",
    "# predict on validation data\n",
    "y_val_pred = Logistic_regression_model.predict(X_val_scaled)\n",
    "\n",
    "#accuracy\n",
    "val_acc = accuracy_score(y_val , y_val_pred)\n",
    "print(\"validation accuracy: \", val_acc)\n",
    "\n",
    "# confusion matrix\n",
    "print(\"\\nconfusion matrix: \\n\", confusion_matrix(y_val , y_val_pred))\n",
    "print(\"\\n\\nclassification report: \\n\", classification_report(y_val , y_val_pred , digits =3))"
   ]
  },
  {
   "cell_type": "markdown",
   "id": "33e15a4c-ce94-4913-a1a7-3e8a139959cc",
   "metadata": {},
   "source": [
    " decision tree Model\n",
    "Training and Evaluation"
   ]
  },
  {
   "cell_type": "code",
   "execution_count": 7,
   "id": "f9feab0c-3d70-4103-8821-d5a6194d59ea",
   "metadata": {},
   "outputs": [
    {
     "name": "stdout",
     "output_type": "stream",
     "text": [
      "Validation accuracy:  0.48422127343604976\n",
      "\n",
      "confusion matrix: \n",
      " [[ 515  110  122  294  118   68  223]\n",
      " [ 103  359   72  155   79   72   85]\n",
      " [ 107   63  421  175   80   66  121]\n",
      " [ 280  183  193 2619  189  193  301]\n",
      " [ 135   68   73  172  425   60  100]\n",
      " [  93   68   78  157   65  357  107]\n",
      " [ 229   89  104  299   99  109  521]]\n"
     ]
    }
   ],
   "source": [
    "# training decision tree\n",
    "Decision_tree_model = DecisionTreeClassifier(random_state=42, class_weight=\"balanced\")\n",
    "Decision_tree_model.fit(X_train_scaled, y_train)\n",
    "\n",
    "# predict on validation data\n",
    "y_val_pred = Decision_tree_model.predict(X_val_scaled)\n",
    "\n",
    "# accuracy\n",
    "val_acc = accuracy_score(y_val, y_val_pred)\n",
    "print(\"Validation accuracy: \", val_acc)\n",
    "\n",
    "# confusion matrix\n",
    "print(\"\\nconfusion matrix: \\n\", confusion_matrix(y_val, y_val_pred))\n"
   ]
  },
  {
   "cell_type": "code",
   "execution_count": null,
   "id": "11ea3c5d-81fb-4b58-9521-79da96bb4d76",
   "metadata": {},
   "outputs": [],
   "source": []
  },
  {
   "cell_type": "markdown",
   "id": "f300260b",
   "metadata": {},
   "source": [
    "# Random Forest Model\n",
    "### Training and Evaluation"
   ]
  },
  {
   "cell_type": "code",
   "execution_count": 8,
   "id": "36d65139",
   "metadata": {},
   "outputs": [
    {
     "name": "stdout",
     "output_type": "stream",
     "text": [
      "Random Forest Accuracy is: 0.5825134583255986\n",
      "Confusion Matrix:\n",
      "[[ 667   50   70  369   76   37  181]\n",
      " [ 100  345   40  272   55   39   74]\n",
      " [  98   38  440  267   46   36  108]\n",
      " [ 162   56   72 3401   71   54  142]\n",
      " [ 120   48   45  252  445   30   93]\n",
      " [  84   37   59  277   33  333  102]\n",
      " [ 189   42   75  371   72   56  645]]\n"
     ]
    }
   ],
   "source": [
    "#  Training the Random Forest model\n",
    "rf = RandomForestClassifier(n_estimators=100, random_state=42)\n",
    "rf.fit(X_train, y_train)\n",
    "\n",
    "# Evaluating on the validation set\n",
    "y_pred = rf.predict(X_val)\n",
    "print(\"Random Forest Accuracy is:\", accuracy_score(y_val, y_pred))\n",
    "\n",
    "# Compute confusion matrix\n",
    "cm = confusion_matrix(y_val, y_pred)\n",
    "print(\"Confusion Matrix:\")\n",
    "print(cm)"
   ]
  }
 ],
 "metadata": {
  "kernelspec": {
   "display_name": "venv",
   "language": "python",
   "name": "python3"
  },
  "language_info": {
   "codemirror_mode": {
    "name": "ipython",
    "version": 3
   },
   "file_extension": ".py",
   "mimetype": "text/x-python",
   "name": "python",
   "nbconvert_exporter": "python",
   "pygments_lexer": "ipython3",
   "version": "3.13.2"
  }
 },
 "nbformat": 4,
 "nbformat_minor": 5
}

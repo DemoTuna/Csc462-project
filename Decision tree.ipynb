{
 "cells": [
  {
   "cell_type": "markdown",
   "id": "62371d10-a252-4b4d-a62e-168d8286e52c",
   "metadata": {},
   "source": [
    "Importing Libraries"
   ]
  },
  {
   "cell_type": "code",
   "execution_count": 1,
   "id": "67b2af4d-a811-4377-b74e-1aa0efea89ef",
   "metadata": {},
   "outputs": [],
   "source": [
    "import pandas as pd\n",
    "import numpy as np\n",
    "from sklearn.tree import DecisionTreeClassifier\n",
    "from sklearn.metrics import accuracy_score, confusion_matrix\n"
   ]
  },
  {
   "cell_type": "markdown",
   "id": "976b7ebe-9ebc-49f5-ac72-23ecf24a4e49",
   "metadata": {},
   "source": [
    "Loading the Dataset"
   ]
  },
  {
   "cell_type": "code",
   "execution_count": 2,
   "id": "fd01eac6-61f7-47f6-9b3f-dce27b53d8b8",
   "metadata": {},
   "outputs": [],
   "source": [
    "# Load data\n",
    "train_df = pd.read_csv(\"train.csv\")\n",
    "val_df = pd.read_csv(\"val.csv\")\n",
    "\n",
    "# Prepare data - Handle conversion safely\n",
    "X_train = train_df[[f\"p{i}\" for i in range(1, 43)] + [\"turn\"]]\n",
    "y_train = train_df[\"label_move_col\"]\n",
    "\n",
    "X_val = val_df[[f\"p{i}\" for i in range(1, 43)] + [\"turn\"]]\n",
    "y_val = val_df[\"label_move_col\"]\n",
    "\n",
    "# Convert to numeric and handle non-integer values\n",
    "X_train = X_train.apply(pd.to_numeric, errors='coerce').fillna(0).astype(\"int\")\n",
    "y_train = pd.to_numeric(y_train, errors='coerce').fillna(0).astype(\"int\")\n",
    "\n",
    "X_val = X_val.apply(pd.to_numeric, errors='coerce').fillna(0).astype(\"int\")\n",
    "y_val = pd.to_numeric(y_val, errors='coerce').fillna(0).astype(\"int\")\n"
   ]
  },
  {
   "cell_type": "markdown",
   "id": "70770f68-86ce-4d2a-a03e-4c952ce855d3",
   "metadata": {},
   "source": [
    "Decision Tree Model"
   ]
  },
  {
   "cell_type": "code",
   "execution_count": 3,
   "id": "5f64a464-4539-48bd-8c65-cf628f29414c",
   "metadata": {},
   "outputs": [
    {
     "name": "stdout",
     "output_type": "stream",
     "text": [
      " Decision Tree Accuracy: 0.4084\n",
      " Confusion Matrix:\n",
      "[[ 480  112  118  313  129   92  206]\n",
      " [ 181  174   75  242   69   68  116]\n",
      " [ 192   64  263  235   84   56  139]\n",
      " [ 403  160  140 2686  150  121  298]\n",
      " [ 216   69   79  224  257   65  123]\n",
      " [ 170   65   76  217   68  200  129]\n",
      " [ 329  107  131  351  106   86  340]]\n"
     ]
    }
   ],
   "source": [
    "# training Decision Tree \n",
    "Decision_tree = DecisionTreeClassifier(random_state=42, max_depth=15)\n",
    "Decision_tree.fit(X_train, y_train)\n",
    "\n",
    "# Prediction\n",
    "y_pred = Decision_tree.predict(X_val)\n",
    "\n",
    "# Results\n",
    "accuracy = accuracy_score(y_val, y_pred)\n",
    "cm = confusion_matrix(y_val, y_pred)\n",
    "\n",
    "print(f\" Decision Tree Accuracy: {accuracy:.4f}\")\n",
    "print(f\" Confusion Matrix:\")\n",
    "print(cm)"
   ]
  },
  {
   "cell_type": "code",
   "execution_count": null,
   "id": "f3718587-a5f9-4a56-af83-b59b6021cfe3",
   "metadata": {},
   "outputs": [],
   "source": []
  }
 ],
 "metadata": {
  "kernelspec": {
   "display_name": "anaconda-2024.02-py310",
   "language": "python",
   "name": "conda-env-anaconda-2024.02-py310-py"
  },
  "language_info": {
   "codemirror_mode": {
    "name": "ipython",
    "version": 3
   },
   "file_extension": ".py",
   "mimetype": "text/x-python",
   "name": "python",
   "nbconvert_exporter": "python",
   "pygments_lexer": "ipython3",
   "version": "3.10.14"
  }
 },
 "nbformat": 4,
 "nbformat_minor": 5
}

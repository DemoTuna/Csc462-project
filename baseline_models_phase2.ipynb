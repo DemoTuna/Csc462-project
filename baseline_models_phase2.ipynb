{
 "cells": [
  {
   "cell_type": "markdown",
   "id": "7047941d",
   "metadata": {},
   "source": [
    "# Phase 2 — Baseline Models"
   ]
  },
  {
   "cell_type": "markdown",
   "id": "be05389d",
   "metadata": {},
   "source": [
    "### Importing Libraries"
   ]
  },
  {
   "cell_type": "code",
   "execution_count": 87,
   "id": "05fa761a",
   "metadata": {},
   "outputs": [],
   "source": [
    "import pandas as pd\n",
    "\n",
    "from sklearn.linear_model import LogisticRegression\n",
    "from sklearn.metrics import accuracy_score , confusion_matrix , classification_report\n",
    "from sklearn.preprocessing import StandardScaler\n",
    "from sklearn.tree import DecisionTreeClassifier\n",
    "from sklearn.ensemble import RandomForestClassifier\n"
   ]
  },
  {
   "cell_type": "markdown",
   "id": "e4f39f55",
   "metadata": {},
   "source": [
    "### Loading the Dataset"
   ]
  },
  {
   "cell_type": "code",
   "execution_count": 88,
   "id": "9dc19690",
   "metadata": {},
   "outputs": [],
   "source": [
    "# loading data\n",
    "train_df = pd.read_csv(\"train.csv\")\n",
    "val_df = pd.read_csv(\"val.csv\")\n",
    "test_df = pd.read_csv(\"test.csv\")\n",
    "\n",
    "# takeing a peak at data \n",
    "train_df.head()\n",
    "\n",
    "# turning them into matreses \n",
    "X_train = train_df[[f\"p{i}\" for i in range(1, 43)] + [\"turn\"]].values.astype(\"int\")\n",
    "y_train = train_df[\"label_move_col\"].values.astype(\"int\")\n",
    "\n",
    "X_val = val_df[[f\"p{i}\" for i in range(1, 43)] + [\"turn\"]].values.astype(\"int\")\n",
    "y_val = val_df[\"label_move_col\"].values.astype(\"int\")\n",
    "\n",
    "X_test = test_df[[f\"p{i}\" for i in range(1, 43)] + [\"turn\"]].values.astype(\"int\")\n",
    "\n"
   ]
  },
  {
   "cell_type": "markdown",
   "id": "55ead2ab",
   "metadata": {},
   "source": [
    "### Standardization of Features"
   ]
  },
  {
   "cell_type": "code",
   "execution_count": 89,
   "id": "f4c835cc",
   "metadata": {},
   "outputs": [
    {
     "data": {
      "text/plain": [
       "label_move_col\n",
       "0     7136\n",
       "1     4111\n",
       "2     4923\n",
       "3    17653\n",
       "4     4923\n",
       "5     4111\n",
       "6     7136\n",
       "Name: count, dtype: int64"
      ]
     },
     "execution_count": 89,
     "metadata": {},
     "output_type": "execute_result"
    }
   ],
   "source": [
    "scaler = StandardScaler()\n",
    "X_train_scaled = scaler.fit_transform(X_train)\n",
    "X_val_scaled = scaler.fit_transform(X_val)\n",
    "X_test_scaled = scaler.fit_transform(X_test)\n",
    "\n",
    "train_df[\"label_move_col\"].value_counts().sort_index()"
   ]
  },
  {
   "cell_type": "markdown",
   "id": "d7c00849",
   "metadata": {},
   "source": [
    "# Logistic Regression Model\n",
    "### Training and Evaluation"
   ]
  },
  {
   "cell_type": "code",
   "execution_count": 90,
   "id": "98446668",
   "metadata": {},
   "outputs": [
    {
     "name": "stdout",
     "output_type": "stream",
     "text": [
      "validation accuracy:  0.17672173751624282\n",
      "\n",
      "confusion matrix: \n",
      " [[194 208 259 185 249 219 136]\n",
      " [ 83 207 169  85 133 148 100]\n",
      " [ 90 133 281 123 175 137  94]\n",
      " [364 575 769 542 769 575 364]\n",
      " [ 94 137 175 123 281 133  90]\n",
      " [100 148 133  85 169 207  83]\n",
      " [138 219 249 185 259 208 192]]\n"
     ]
    }
   ],
   "source": [
    "# training logistic regression\n",
    "\n",
    "Logistic_regression_model =  LogisticRegression(max_iter = 3000 , solver =\"lbfgs\" ,class_weight=\"balanced\" , C=1 ,random_state=42 )\n",
    "\n",
    "Logistic_regression_model.fit(X_train_scaled , y_train)\n",
    "\n",
    "# predict on validation data\n",
    "y_val_pred = Logistic_regression_model.predict(X_val_scaled)\n",
    "\n",
    "#accuracy\n",
    "val_acc = accuracy_score(y_val , y_val_pred)\n",
    "print(\"validation accuracy: \", val_acc)\n",
    "\n",
    "# confusion matrix\n",
    "print(\"\\nconfusion matrix: \\n\", confusion_matrix(y_val , y_val_pred))"
   ]
  },
  {
   "cell_type": "markdown",
   "id": "33e15a4c-ce94-4913-a1a7-3e8a139959cc",
   "metadata": {},
   "source": [
    "# Decision Tree Model\n",
    "### Training and Evaluation\n",
    "\n"
   ]
  },
  {
   "cell_type": "code",
   "execution_count": 91,
   "id": "f9feab0c-3d70-4103-8821-d5a6194d59ea",
   "metadata": {},
   "outputs": [
    {
     "name": "stdout",
     "output_type": "stream",
     "text": [
      "Validation accuracy:  0.48422127343604976\n",
      "\n",
      "confusion matrix: \n",
      " [[ 515  110  122  294  118   68  223]\n",
      " [ 103  359   72  155   79   72   85]\n",
      " [ 107   63  421  175   80   66  121]\n",
      " [ 280  183  193 2619  189  193  301]\n",
      " [ 135   68   73  172  425   60  100]\n",
      " [  93   68   78  157   65  357  107]\n",
      " [ 229   89  104  299   99  109  521]]\n"
     ]
    }
   ],
   "source": [
    "# training decision tree\n",
    "Decision_tree_model = DecisionTreeClassifier(random_state=42, class_weight=\"balanced\")\n",
    "Decision_tree_model.fit(X_train_scaled, y_train)\n",
    "\n",
    "# predict on validation data\n",
    "y_val_pred = Decision_tree_model.predict(X_val_scaled)\n",
    "\n",
    "# accuracy\n",
    "val_acc = accuracy_score(y_val, y_val_pred)\n",
    "print(\"Validation accuracy: \", val_acc)\n",
    "\n",
    "# confusion matrix\n",
    "print(\"\\nconfusion matrix: \\n\", confusion_matrix(y_val, y_val_pred))\n"
   ]
  },
  {
   "cell_type": "markdown",
   "id": "f300260b",
   "metadata": {},
   "source": [
    "# Random Forest Model\n",
    "### Training and Evaluation"
   ]
  },
  {
   "cell_type": "code",
   "execution_count": 92,
   "id": "36d65139",
   "metadata": {},
   "outputs": [
    {
     "name": "stdout",
     "output_type": "stream",
     "text": [
      "Validation accuracy: 0.589660293298682\n",
      "\n",
      "confusion matrix: \n",
      " [[ 657   53   63  400   72   42  163]\n",
      " [  87  379   41  261   51   43   63]\n",
      " [  90   33  447  268   38   42  115]\n",
      " [ 138   55   80 3412   72   54  147]\n",
      " [ 112   37   44  269  453   31   87]\n",
      " [  64   43   54  265   37  375   87]\n",
      " [ 164   42   77  413   71   53  630]]\n"
     ]
    }
   ],
   "source": [
    "#  Training the Random Forest model\n",
    "rf = RandomForestClassifier(n_estimators=300, random_state=42, class_weight=\"balanced\")\n",
    "rf.fit(X_train_scaled, y_train)\n",
    "\n",
    "# predict on validation data\n",
    "y_val_pred = rf.predict(X_val_scaled)\n",
    "\n",
    "# accuracy\n",
    "val_acc = accuracy_score(y_val, y_val_pred)\n",
    "print(\"Validation accuracy:\", val_acc)\n",
    "\n",
    "# confusion matrix\n",
    "print(\"\\nconfusion matrix: \\n\", confusion_matrix(y_val, y_val_pred))\n"
   ]
  },
  {
   "cell_type": "markdown",
   "id": "543f3ff4",
   "metadata": {},
   "source": [
    "###  Final Prediction with the Best Model: Random Forest"
   ]
  },
  {
   "cell_type": "code",
   "execution_count": 93,
   "id": "a3b04f78",
   "metadata": {},
   "outputs": [],
   "source": [
    "# predict on test data\n",
    "y_test_pred = rf.predict(X_test_scaled)\n",
    "\n",
    "Prediction = pd.DataFrame({\"id\": range( 1 , len(y_test_pred) +1 ), \"label_move_col\" : y_test_pred })\n",
    "Prediction.to_csv(\"prediction.csv\" , index = False)"
   ]
  }
 ],
 "metadata": {
  "kernelspec": {
   "display_name": "Python 3",
   "language": "python",
   "name": "python3"
  },
  "language_info": {
   "codemirror_mode": {
    "name": "ipython",
    "version": 3
   },
   "file_extension": ".py",
   "mimetype": "text/x-python",
   "name": "python",
   "nbconvert_exporter": "python",
   "pygments_lexer": "ipython3",
   "version": "3.10.7"
  }
 },
 "nbformat": 4,
 "nbformat_minor": 5
}

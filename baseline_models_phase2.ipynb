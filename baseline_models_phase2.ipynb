{
 "cells": [
  {
   "cell_type": "markdown",
   "id": "7047941d",
   "metadata": {},
   "source": [
    "# Phase 2 — Baseline Models"
   ]
  },
  {
   "cell_type": "markdown",
   "id": "be05389d",
   "metadata": {},
   "source": [
    "### Importing Libraries"
   ]
  },
  {
   "cell_type": "code",
   "execution_count": 51,
   "id": "05fa761a",
   "metadata": {},
   "outputs": [],
   "source": [
    "import pandas as pd\n",
    "import numpy as np\n",
    "\n",
    "from sklearn.linear_model import LogisticRegression\n",
    "from sklearn.metrics import accuracy_score , confusion_matrix , classification_report\n",
    "from sklearn.preprocessing import StandardScaler\n"
   ]
  },
  {
   "cell_type": "markdown",
   "id": "e4f39f55",
   "metadata": {},
   "source": [
    "### Loading the Dataset"
   ]
  },
  {
   "cell_type": "code",
   "execution_count": 52,
   "id": "9dc19690",
   "metadata": {},
   "outputs": [],
   "source": [
    "# loading data\n",
    "train_df = pd.read_csv(\"train.csv\")\n",
    "val_df = pd.read_csv(\"val.csv\")\n",
    "test_df = pd.read_csv(\"test.csv\")\n",
    "\n",
    "# takeing a peak at data \n",
    "train_df.head()\n",
    "\n",
    "# turning them into matreses \n",
    "X_train = train_df[[f\"p{i}\" for i in range(1, 43)] + [\"turn\"]].values.astype(\"int\")\n",
    "y_train = train_df[\"label_move_col\"].values.astype(\"int\")\n",
    "\n",
    "X_val = val_df[[f\"p{i}\" for i in range(1, 43)] + [\"turn\"]].values.astype(\"int\")\n",
    "y_val = val_df[\"label_move_col\"].values.astype(\"int\")\n",
    "\n",
    "X_test = test_df[[f\"p{i}\" for i in range(1, 43)] + [\"turn\"]].values.astype(\"int\")\n",
    "\n"
   ]
  },
  {
   "cell_type": "markdown",
   "id": "55ead2ab",
   "metadata": {},
   "source": [
    "### Standardization of Features"
   ]
  },
  {
   "cell_type": "code",
   "execution_count": 53,
   "id": "f4c835cc",
   "metadata": {},
   "outputs": [
    {
     "data": {
      "text/plain": [
       "label_move_col\n",
       "0     7136\n",
       "1     4111\n",
       "2     4923\n",
       "3    17653\n",
       "4     4923\n",
       "5     4111\n",
       "6     7136\n",
       "Name: count, dtype: int64"
      ]
     },
     "execution_count": 53,
     "metadata": {},
     "output_type": "execute_result"
    }
   ],
   "source": [
    "scaler = StandardScaler()\n",
    "X_train_scaled = scaler.fit_transform(X_train)\n",
    "X_val_scaled = scaler.fit_transform(X_val)\n",
    "X_test_scaled = scaler.fit_transform(X_test)\n",
    "\n",
    "train_df[\"label_move_col\"].value_counts().sort_index()"
   ]
  },
  {
   "cell_type": "markdown",
   "id": "d7c00849",
   "metadata": {},
   "source": [
    "# Logistic Regression Model\n",
    "### Training and Evaluation"
   ]
  },
  {
   "cell_type": "code",
   "execution_count": 54,
   "id": "98446668",
   "metadata": {},
   "outputs": [
    {
     "name": "stdout",
     "output_type": "stream",
     "text": [
      "validation accuracy:  0.17672173751624282\n",
      "\n",
      "confusion matrix: \n",
      " [[194 208 259 185 249 219 136]\n",
      " [ 83 207 169  85 133 148 100]\n",
      " [ 90 133 281 123 175 137  94]\n",
      " [364 575 769 542 769 575 364]\n",
      " [ 94 137 175 123 281 133  90]\n",
      " [100 148 133  85 169 207  83]\n",
      " [138 219 249 185 259 208 192]]\n",
      "\n",
      "\n",
      "classification report: \n",
      "               precision    recall  f1-score   support\n",
      "\n",
      "           0      0.183     0.134     0.154      1450\n",
      "           1      0.127     0.224     0.162       925\n",
      "           2      0.138     0.272     0.183      1033\n",
      "           3      0.408     0.137     0.205      3958\n",
      "           4      0.138     0.272     0.183      1033\n",
      "           5      0.127     0.224     0.162       925\n",
      "           6      0.181     0.132     0.153      1450\n",
      "\n",
      "    accuracy                          0.177     10774\n",
      "   macro avg      0.186     0.199     0.172     10774\n",
      "weighted avg      0.247     0.177     0.180     10774\n",
      "\n"
     ]
    }
   ],
   "source": [
    "# training logistic regression\n",
    "\n",
    "Logistic_regression_model =  LogisticRegression(max_iter = 3000 , solver =\"lbfgs\" ,class_weight=\"balanced\" , C=1 ,random_state=42 )\n",
    "\n",
    "Logistic_regression_model.fit(X_train_scaled , y_train)\n",
    "\n",
    "# predict on validation data\n",
    "y_val_pred = Logistic_regression_model.predict(X_val_scaled)\n",
    "\n",
    "#accuracy\n",
    "val_acc = accuracy_score(y_val , y_val_pred)\n",
    "print(\"validation accuracy: \", val_acc)\n",
    "\n",
    "# confusion matrix\n",
    "print(\"\\nconfusion matrix: \\n\", confusion_matrix(y_val , y_val_pred))\n",
    "print(\"\\n\\nclassification report: \\n\", classification_report(y_val , y_val_pred , digits =3))"
   ]
  }
 ],
 "metadata": {
  "kernelspec": {
   "display_name": "Python 3",
   "language": "python",
   "name": "python3"
  },
  "language_info": {
   "codemirror_mode": {
    "name": "ipython",
    "version": 3
   },
   "file_extension": ".py",
   "mimetype": "text/x-python",
   "name": "python",
   "nbconvert_exporter": "python",
   "pygments_lexer": "ipython3",
   "version": "3.10.7"
  }
 },
 "nbformat": 4,
 "nbformat_minor": 5
}
